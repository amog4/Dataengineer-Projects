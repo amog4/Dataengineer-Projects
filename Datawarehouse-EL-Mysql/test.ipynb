{
 "metadata": {
  "language_info": {
   "codemirror_mode": {
    "name": "ipython",
    "version": 3
   },
   "file_extension": ".py",
   "mimetype": "text/x-python",
   "name": "python",
   "nbconvert_exporter": "python",
   "pygments_lexer": "ipython3",
   "version": "3.7.6-final"
  },
  "orig_nbformat": 2,
  "kernelspec": {
   "name": "python_defaultSpec_1602705130340",
   "display_name": "Python 3.7.6 64-bit ('base': conda)"
  }
 },
 "nbformat": 4,
 "nbformat_minor": 2,
 "cells": [
  {
   "cell_type": "code",
   "execution_count": 1,
   "metadata": {},
   "outputs": [],
   "source": [
    "# This Notebook will contain all the necessary work related loading data and creating the data structure and loading to stage and prod database alone with update and delete functions\n",
    "\n",
    "# The data which we will be using will be from TPC-DS Schema (This has 8 fact tables ),\n",
    "#  In this we will build Store Sales Fact Table\n",
    "\n",
    "# Tech Stack Files ------ > Mysql (Files to Source Loading)\n",
    "\n",
    "\n"
   ]
  },
  {
   "cell_type": "code",
   "execution_count": 2,
   "metadata": {},
   "outputs": [],
   "source": [
    "# Create database tpc_dc this is synonym to create schema in mysql\n",
    "# Use database tpc_dc"
   ]
  },
  {
   "cell_type": "code",
   "execution_count": null,
   "metadata": {},
   "outputs": [],
   "source": []
  },
  {
   "cell_type": "code",
   "execution_count": 35,
   "metadata": {},
   "outputs": [],
   "source": [
    "create_database = \"\"\"\n",
    "\n",
    "create database it not exists tpc_dc \n",
    "CHARACTER SET utf8\n",
    " \"\"\""
   ]
  },
  {
   "cell_type": "code",
   "execution_count": 1,
   "metadata": {},
   "outputs": [],
   "source": [
    "time_dim = \"\"\"\n",
    "\n",
    "\n",
    "\n",
    "create table if not exists time_dim (\n",
    "\n",
    "\n",
    "t_time_sk integer not null,\n",
    "t_time_id   char(16),\n",
    "t_time int ,\n",
    "t_hour int,\n",
    "t_minute int,\n",
    "t_second int,\n",
    "t_am_pm char(2),\n",
    "t_shift char(20),\n",
    "t_sub_shift char(20),\n",
    "t_meal_time char(20),\n",
    "\n",
    "primary key(t_time_sk)\n",
    "\n",
    "\n",
    ")\n",
    "\n",
    "\n",
    "\"\"\"\n",
    "\n",
    "\n"
   ]
  },
  {
   "cell_type": "code",
   "execution_count": 2,
   "metadata": {},
   "outputs": [],
   "source": [
    "date_dim = \"\"\"\n",
    "\n",
    "create table if not exists date_dim (\n",
    "\n",
    "d_date_sk  integer not null primary key,\n",
    "d_date_id char(16) not null,\n",
    "d_date date not null,\n",
    "d_month_seq  integer,\n",
    "d_week_seq integer,\n",
    "d_quarter_seq integer,\n",
    "d_year integer,\n",
    "d_dow integer,\n",
    "d_moy integer,\n",
    "d_dom integer,\n",
    "d_qoy integer,\n",
    "d_fy_year integer,\n",
    "d_fy_quarter_seq integer,\n",
    "d_fy_week_seq integer,\n",
    "d_day_name char(9),\n",
    "d_quarter_name char(6),\n",
    "d_holiday char(1),\n",
    "d_weekend char(1),\n",
    "d_following_holiday char(1),\n",
    "d_first_dom integer,\n",
    "d_last_dom integer,\n",
    "d_same_day_ly integer,\n",
    "d_same_day_lq integer,\n",
    "d_current_day char(1),\n",
    "d_current_week char(1),\n",
    "d_current_month char(1),\n",
    "d_current_quarter char(1),\n",
    "d_current_year char(1)\n",
    "\n",
    "\n",
    "\n",
    ") \n",
    "\n",
    "\n",
    "\"\"\""
   ]
  },
  {
   "cell_type": "code",
   "execution_count": 143,
   "metadata": {},
   "outputs": [],
   "source": [
    "item = \"\"\"\n",
    "\n",
    "create table if not exists item (\n",
    "\n",
    "\n",
    "i_item_sk integer not null primary key,\n",
    "i_item_id  varchar(200) not null,\n",
    "i_rec_start_date  varchar(200) null ,\n",
    "i_rec_end_date varchar(200) null,\n",
    "i_item_desc varchar(200) null,\n",
    "i_current_price varchar(200) null,\n",
    "i_wholesale_cost varchar(200) null,\n",
    "i_brand_id varchar(200)  null,\n",
    "i_brand char(50) null,\n",
    "i_class_id varchar(200)  null,\n",
    "i_class  varchar(200) null,\n",
    "i_category_id varchar(200)  null,\n",
    "i_category char(50) null,\n",
    "i_manufact_id varchar(200)  null,\n",
    "i_manufact varchar(200) null,\n",
    "i_size varchar(200) null,\n",
    "i_formulation char(20) null,\n",
    "i_color varchar(200) null,\n",
    "i_units varchar(200) null,\n",
    "i_container varchar(200)null,\n",
    "i_manager_id varchar(200)  null,\n",
    "i_product_name varchar(200) null\n",
    "\n",
    "\n",
    ")\n",
    "\n",
    "\n",
    "\n",
    "\"\"\""
   ]
  },
  {
   "cell_type": "code",
   "execution_count": 144,
   "metadata": {},
   "outputs": [],
   "source": [
    "warehouse = \"\"\"\n",
    "\n",
    "\n",
    "\n",
    "create table if not exists warehouse (\n",
    "\n",
    "w_warehouse_sk integer  not null primary key,\n",
    "w_warehouse_id  char(16),\n",
    "w_warehouse_name varchar(20),\n",
    "w_warehouse_sq_ft integer,\n",
    "w_street_number char(10),\n",
    "w_street_name varchar(60),\n",
    "w_street_type char(15),\n",
    "w_suite_number char(10),\n",
    "w_city varchar(60),\n",
    "w_county varchar(30),\n",
    "w_state char(2),\n",
    "w_zip char(10),\n",
    "w_country varchar(20),\n",
    "w_gmt_offset decimal(5,2)\n",
    "\n",
    ") \n",
    "\n",
    "\n",
    "\n",
    "\n",
    "\"\"\""
   ]
  },
  {
   "cell_type": "code",
   "execution_count": 145,
   "metadata": {},
   "outputs": [],
   "source": [
    "inventory_fact = \"\"\"\n",
    "\n",
    "\n",
    "\n",
    "create table if not exists \n",
    "inventory_fact (\n",
    "\n",
    "inv_date_sk  integer  not null    REFERENCES date_dim(d_date_sk),\n",
    "\n",
    "inv_item_sk integer  not null   REFERENCES iteam(i_item_sk),\n",
    "\n",
    "inv_warehouse_sk integer  not null  REFERENCES warehouse(w_warehouse_sk),\n",
    "\n",
    "inv_quantity_on_hand  integer \n",
    "\n",
    "\n",
    ")\n",
    "\n",
    "\n",
    "\n",
    "\n",
    "\"\"\""
   ]
  },
  {
   "cell_type": "code",
   "execution_count": 146,
   "metadata": {},
   "outputs": [],
   "source": [
    "date_dim_drop = \"\"\"  drop table if  exists  date_dim_drop  \"\"\"\n",
    "time_dim_drop =  \"\"\"  drop table if exists  time_dim_drop \"\"\"\n",
    "item_drop =   \"\"\"  drop table if  exists  item_drop   \"\"\"\n",
    "warehouse_drop =  \"\"\"  drop table if exists  warehouse_drop  \"\"\"\n",
    "inventory_fact_drop =  \"\"\"  drop table if exists  inventory_fact_drop \"\"\""
   ]
  },
  {
   "cell_type": "code",
   "execution_count": 147,
   "metadata": {},
   "outputs": [],
   "source": [
    "create_tables = [date_dim,time_dim,item,warehouse,inventory_fact]\n",
    "drop_tables = [date_dim_drop,time_dim_drop,item_drop,warehouse_drop,inventory_fact_drop]"
   ]
  },
  {
   "cell_type": "code",
   "execution_count": 12,
   "metadata": {},
   "outputs": [],
   "source": []
  },
  {
   "cell_type": "code",
   "execution_count": 10,
   "metadata": {},
   "outputs": [],
   "source": [
    "# update dimensions"
   ]
  },
  {
   "cell_type": "code",
   "execution_count": 11,
   "metadata": {},
   "outputs": [],
   "source": [
    "import pandas as pd \n",
    "import mysql.connector"
   ]
  },
  {
   "cell_type": "code",
   "execution_count": 12,
   "metadata": {},
   "outputs": [],
   "source": [
    "config = {\n",
    "    'user': 'retail_user',\n",
    "    'password': 'amogh',\n",
    "    'host': 'localhost',\n",
    "    'port': '3307'\n",
    "\n",
    "}\n"
   ]
  },
  {
   "cell_type": "code",
   "execution_count": 13,
   "metadata": {},
   "outputs": [],
   "source": [
    "create_database = \"\"\"\n",
    "\n",
    "create database if not exists tpc_dc \n",
    "CHARACTER SET utf8\n",
    "  \"\"\""
   ]
  },
  {
   "cell_type": "code",
   "execution_count": 14,
   "metadata": {},
   "outputs": [],
   "source": [
    "drop_database = \"\"\"\n",
    " \n",
    " drop database if exists tpc_dc \n",
    " \"\"\""
   ]
  },
  {
   "cell_type": "code",
   "execution_count": 15,
   "metadata": {},
   "outputs": [],
   "source": [
    "class NumpyMySQLConverter(mysql.connector.conversion.MySQLConverter):\n",
    "\n",
    "  \n",
    "    \"\"\" A mysql.connector Converter that handles Numpy types \"\"\"\n",
    "\n",
    "    def _float32_to_mysql(self, value):\n",
    "        return float(value)\n",
    "\n",
    "    def _float64_to_mysql(self, value):\n",
    "        return float(value)\n",
    "\n",
    "    def _int32_to_mysql(self, value):\n",
    "        return int(value)\n",
    "\n",
    "    def _int64_to_mysql(self, value):\n",
    "        return int(value)"
   ]
  },
  {
   "cell_type": "code",
   "execution_count": 16,
   "metadata": {
    "tags": []
   },
   "outputs": [],
   "source": [
    "# \n",
    "def mysql_connection():\n",
    "    try:\n",
    "        cnx = mysql.connector.connect(**config)\n",
    "        print(\"connection successful\")\n",
    "        \n",
    "        cnx.autocommit = True\n",
    "\n",
    "        cur = cnx.cursor()\n",
    "        cur.execute(drop_database)\n",
    "        print(\"\"\"\n",
    "                database droped \n",
    "            \"\"\")\n",
    "        cur.execute(create_database)\n",
    "        print(\"\"\"\n",
    "                database created\n",
    "            \"\"\")\n",
    "\n",
    "        cur.close()\n",
    "        conn = mysql.connector.connect(database = 'tpc_dc', **config)\n",
    "        \n",
    "        cur = conn.cursor()\n",
    "\n",
    "        return cur , conn\n",
    "\n",
    "    except Exception as e:\n",
    "        print(e)"
   ]
  },
  {
   "cell_type": "code",
   "execution_count": 162,
   "metadata": {
    "tags": []
   },
   "outputs": [],
   "source": [
    "def drop_func(cur,conn,drop_table_list):\n",
    "\n",
    "    for drop_t in drop_table_list:\n",
    "        cur.execute(drop_t)\n",
    "        conn.commit()\n",
    "    \n",
    "    print('droped tables')\n",
    "\n",
    "    "
   ]
  },
  {
   "cell_type": "code",
   "execution_count": 18,
   "metadata": {
    "tags": []
   },
   "outputs": [
    {
     "output_type": "stream",
     "name": "stdout",
     "text": "connection successful\n\n                database droped \n            \n\n                database created\n            \ndroped tables\n"
    }
   ],
   "source": [
    "cur, conn = mysql_connection()\n",
    "\n",
    "drop_func(cur =cur,conn =conn,drop_table_list = drop_tables)"
   ]
  },
  {
   "cell_type": "code",
   "execution_count": 163,
   "metadata": {
    "tags": []
   },
   "outputs": [
    {
     "output_type": "stream",
     "name": "stdout",
     "text": "droped tables\n"
    }
   ],
   "source": [
    "drop_func(cur =cur,conn =conn,drop_table_list = [\"\"\"  drop table if  exists  item_drop   \"\"\"])"
   ]
  },
  {
   "cell_type": "markdown",
   "metadata": {},
   "source": []
  },
  {
   "cell_type": "code",
   "execution_count": 19,
   "metadata": {
    "tags": []
   },
   "outputs": [],
   "source": [
    "def create_func(cur,conn,create_table_list):\n",
    "\n",
    "    for create_t in create_table_list:\n",
    "        cur.execute(create_t)\n",
    "    \n",
    "    print('create tables')\n",
    "\n",
    " "
   ]
  },
  {
   "cell_type": "code",
   "execution_count": 20,
   "metadata": {},
   "outputs": [],
   "source": [
    "date_dim = \"\"\"\n",
    "\n",
    "create table if not exists date_dim (\n",
    "\n",
    "d_date_sk  integer not null primary key,\n",
    "d_date_id char(16) not null,\n",
    "d_date  date not null,\n",
    "d_month_seq  integer,\n",
    "d_week_seq integer,\n",
    "d_quarter_seq integer,\n",
    "d_year integer,\n",
    "d_dow integer,\n",
    "d_moy integer,\n",
    "d_dom integer,\n",
    "d_qoy integer,\n",
    "d_fy_year integer,\n",
    "d_fy_quarter_seq integer,\n",
    "d_fy_week_seq integer,\n",
    "d_day_name char(9),\n",
    "d_quarter_name char(6),\n",
    "d_holiday char(1),\n",
    "d_weekend char(1),\n",
    "d_following_holiday char(1),\n",
    "d_first_dom integer,\n",
    "d_last_dom integer,\n",
    "d_same_day_ly integer,\n",
    "d_same_day_lq integer,\n",
    "d_current_day char(1),\n",
    "d_current_week char(1),\n",
    "d_current_month char(1),\n",
    "d_current_quarter char(1),\n",
    "d_current_year char(1)\n",
    "\n",
    "\n",
    "\n",
    ") \n",
    "\n",
    "\n",
    "\"\"\""
   ]
  },
  {
   "cell_type": "code",
   "execution_count": 21,
   "metadata": {},
   "outputs": [],
   "source": [
    "data_ = [date_dim]"
   ]
  },
  {
   "cell_type": "code",
   "execution_count": 150,
   "metadata": {
    "tags": []
   },
   "outputs": [
    {
     "output_type": "stream",
     "name": "stdout",
     "text": "create tables\n"
    }
   ],
   "source": [
    "create_func(cur =cur,conn =conn,create_table_list = create_tables)"
   ]
  },
  {
   "cell_type": "code",
   "execution_count": 4,
   "metadata": {},
   "outputs": [],
   "source": [
    "# insert data\n",
    "\n",
    "\n",
    "columns = ['f','g']"
   ]
  },
  {
   "cell_type": "code",
   "execution_count": 20,
   "metadata": {},
   "outputs": [],
   "source": [
    "col_ = tuple(i for i in columns)"
   ]
  },
  {
   "cell_type": "code",
   "execution_count": 32,
   "metadata": {
    "tags": []
   },
   "outputs": [],
   "source": [
    "col2 = tuple('%s' for i in col_)\n",
    "    "
   ]
  },
  {
   "cell_type": "code",
   "execution_count": 16,
   "metadata": {},
   "outputs": [],
   "source": []
  },
  {
   "cell_type": "code",
   "execution_count": 17,
   "metadata": {},
   "outputs": [
    {
     "output_type": "execute_result",
     "data": {
      "text/plain": "('f', 'g', 'g')"
     },
     "metadata": {},
     "execution_count": 17
    }
   ],
   "source": []
  },
  {
   "cell_type": "code",
   "execution_count": 33,
   "metadata": {},
   "outputs": [
    {
     "output_type": "execute_result",
     "data": {
      "text/plain": "\"insert into table  ('f', 'g') values ('%s', '%s')\""
     },
     "metadata": {},
     "execution_count": 33
    }
   ],
   "source": [
    "f\"insert into table  {col_} values {col2}\""
   ]
  },
  {
   "cell_type": "code",
   "execution_count": 23,
   "metadata": {},
   "outputs": [],
   "source": [
    "def insert_data(columns,table):\n",
    "\n",
    "    col1 = ', '.join([i for i in columns])\n",
    "    col2 = ', '.join(['%s' for i in columns])\n",
    "    insert_query = f\"insert into {table}  ({col1}) values ({col2})\"\n",
    "\n",
    "    return insert_query"
   ]
  },
  {
   "cell_type": "code",
   "execution_count": 64,
   "metadata": {},
   "outputs": [
    {
     "output_type": "execute_result",
     "data": {
      "text/plain": "'i_item_sk\" ,\"i_item_id\" ,\"i_rec_start_date\" ,\"i_rec_end_date\" ,\"i_item_desc\" ,\"i_current_price\" ,\"i_wholesale_cost\" ,\"i_brand_id\" ,\"i_brand\" ,\"i_class_id\" ,\"i_class\" ,\"i_category_id\" ,\"i_category\" ,\"i_manufact_id\" ,\"i_manufact\" ,\"i_size\" ,\"i_formulation\" ,\"i_color\" ,\"i_units\" ,\"i_container\" ,\"i_manager_id\" ,\"i_product_name'"
     },
     "metadata": {},
     "execution_count": 64
    }
   ],
   "source": [
    "'\" ,\"'.join([i for i in col])"
   ]
  },
  {
   "cell_type": "code",
   "execution_count": 132,
   "metadata": {},
   "outputs": [],
   "source": [
    "item = pd.read_csv('../retailer/data/dat/item.dat',sep=\"|\",skipinitialspace=True)"
   ]
  },
  {
   "cell_type": "code",
   "execution_count": 133,
   "metadata": {},
   "outputs": [],
   "source": [
    "def trim_all_columns(df):\n",
    "\n",
    "    trim_string = lambda x : x.rstrip() if isinstance(x,str) else x\n",
    "\n",
    "    return df.applymap(trim_string)"
   ]
  },
  {
   "cell_type": "code",
   "execution_count": 140,
   "metadata": {},
   "outputs": [],
   "source": [
    "item1 = trim_all_columns(item)"
   ]
  },
  {
   "cell_type": "code",
   "execution_count": 141,
   "metadata": {},
   "outputs": [
    {
     "output_type": "execute_result",
     "data": {
      "text/plain": "'amalgamalg #1'"
     },
     "metadata": {},
     "execution_count": 141
    }
   ],
   "source": [
    "item1.loc[:,'i_brand'][1]"
   ]
  },
  {
   "cell_type": "code",
   "execution_count": 28,
   "metadata": {},
   "outputs": [],
   "source": [
    "col = list(item.columns)"
   ]
  },
  {
   "cell_type": "code",
   "execution_count": 6,
   "metadata": {},
   "outputs": [],
   "source": [
    "col = list(item.columns)\n",
    "d = insert_data(columns=col)\n",
    "item1.fillna(value = 'NULL',inplace=True)"
   ]
  },
  {
   "cell_type": "code",
   "execution_count": 154,
   "metadata": {},
   "outputs": [],
   "source": [
    "item1.fillna(value = 'NULL',inplace=True)"
   ]
  },
  {
   "cell_type": "code",
   "execution_count": 136,
   "metadata": {
    "tags": []
   },
   "outputs": [],
   "source": [
    "\n",
    "def insert_rows(cur, conn ,columns,table,data):\n",
    "    conn.set_converter_class(NumpyMySQLConverter)\n",
    "    insert_query = insert_data(columns=columns,table=table)\n",
    "    x = 1 \n",
    "    rows = []\n",
    "\n",
    "    for row in range(0,data.shape[0]):\n",
    "\n",
    "        rows.append(tuple(data.iloc[row].values))\n",
    "       \n",
    "        if x % 1000 == 0:\n",
    "\n",
    "            cur.executemany(insert_query,rows)\n",
    "            rows = []\n",
    "        \n",
    "        x +=1 \n",
    "    cur.executemany(insert_query,rows)\n",
    "    print( x)\n",
    "   \n",
    "\n"
   ]
  },
  {
   "cell_type": "code",
   "execution_count": 164,
   "metadata": {
    "tags": []
   },
   "outputs": [
    {
     "output_type": "error",
     "ename": "DataError",
     "evalue": "1292 (22007): Incorrect date value: 'NULL' for column 'i_rec_end_date' at row 1",
     "traceback": [
      "\u001b[0;31m---------------------------------------------------------------------------\u001b[0m",
      "\u001b[0;31mMySQLInterfaceError\u001b[0m                       Traceback (most recent call last)",
      "\u001b[0;32m~/anaconda3/lib/python3.7/site-packages/mysql/connector/connection_cext.py\u001b[0m in \u001b[0;36mcmd_query\u001b[0;34m(self, query, raw, buffered, raw_as_string)\u001b[0m\n\u001b[1;32m    488\u001b[0m                                \u001b[0mraw\u001b[0m\u001b[0;34m=\u001b[0m\u001b[0mraw\u001b[0m\u001b[0;34m,\u001b[0m \u001b[0mbuffered\u001b[0m\u001b[0;34m=\u001b[0m\u001b[0mbuffered\u001b[0m\u001b[0;34m,\u001b[0m\u001b[0;34m\u001b[0m\u001b[0;34m\u001b[0m\u001b[0m\n\u001b[0;32m--> 489\u001b[0;31m                                raw_as_string=raw_as_string)\n\u001b[0m\u001b[1;32m    490\u001b[0m         \u001b[0;32mexcept\u001b[0m \u001b[0mMySQLInterfaceError\u001b[0m \u001b[0;32mas\u001b[0m \u001b[0mexc\u001b[0m\u001b[0;34m:\u001b[0m\u001b[0;34m\u001b[0m\u001b[0;34m\u001b[0m\u001b[0m\n",
      "\u001b[0;31mMySQLInterfaceError\u001b[0m: Incorrect date value: 'NULL' for column 'i_rec_end_date' at row 1",
      "\nDuring handling of the above exception, another exception occurred:\n",
      "\u001b[0;31mDataError\u001b[0m                                 Traceback (most recent call last)",
      "\u001b[0;32m<ipython-input-164-d0f7add5ce19>\u001b[0m in \u001b[0;36m<module>\u001b[0;34m\u001b[0m\n\u001b[0;32m----> 1\u001b[0;31m \u001b[0minsert_rows\u001b[0m\u001b[0;34m(\u001b[0m\u001b[0mcur\u001b[0m \u001b[0;34m=\u001b[0m \u001b[0mcur\u001b[0m\u001b[0;34m,\u001b[0m \u001b[0mconn\u001b[0m \u001b[0;34m=\u001b[0m \u001b[0mconn\u001b[0m \u001b[0;34m,\u001b[0m\u001b[0mcolumns\u001b[0m \u001b[0;34m=\u001b[0m \u001b[0mcol\u001b[0m\u001b[0;34m,\u001b[0m\u001b[0mtable\u001b[0m \u001b[0;34m=\u001b[0m \u001b[0;34m'item'\u001b[0m \u001b[0;34m,\u001b[0m\u001b[0mdata\u001b[0m\u001b[0;34m=\u001b[0m \u001b[0mitem1\u001b[0m \u001b[0;34m)\u001b[0m\u001b[0;34m\u001b[0m\u001b[0;34m\u001b[0m\u001b[0m\n\u001b[0m",
      "\u001b[0;32m<ipython-input-136-c93eaed77bfd>\u001b[0m in \u001b[0;36minsert_rows\u001b[0;34m(cur, conn, columns, table, data)\u001b[0m\n\u001b[1;32m     11\u001b[0m         \u001b[0;32mif\u001b[0m \u001b[0mx\u001b[0m \u001b[0;34m%\u001b[0m \u001b[0;36m1000\u001b[0m \u001b[0;34m==\u001b[0m \u001b[0;36m0\u001b[0m\u001b[0;34m:\u001b[0m\u001b[0;34m\u001b[0m\u001b[0;34m\u001b[0m\u001b[0m\n\u001b[1;32m     12\u001b[0m \u001b[0;34m\u001b[0m\u001b[0m\n\u001b[0;32m---> 13\u001b[0;31m             \u001b[0mcur\u001b[0m\u001b[0;34m.\u001b[0m\u001b[0mexecutemany\u001b[0m\u001b[0;34m(\u001b[0m\u001b[0minsert_query\u001b[0m\u001b[0;34m,\u001b[0m\u001b[0mrows\u001b[0m\u001b[0;34m)\u001b[0m\u001b[0;34m\u001b[0m\u001b[0;34m\u001b[0m\u001b[0m\n\u001b[0m\u001b[1;32m     14\u001b[0m             \u001b[0mrows\u001b[0m \u001b[0;34m=\u001b[0m \u001b[0;34m[\u001b[0m\u001b[0;34m]\u001b[0m\u001b[0;34m\u001b[0m\u001b[0;34m\u001b[0m\u001b[0m\n\u001b[1;32m     15\u001b[0m \u001b[0;34m\u001b[0m\u001b[0m\n",
      "\u001b[0;32m~/anaconda3/lib/python3.7/site-packages/mysql/connector/cursor_cext.py\u001b[0m in \u001b[0;36mexecutemany\u001b[0;34m(self, operation, seq_params)\u001b[0m\n\u001b[1;32m    350\u001b[0m             \u001b[0mstmt\u001b[0m \u001b[0;34m=\u001b[0m \u001b[0mself\u001b[0m\u001b[0;34m.\u001b[0m\u001b[0m_batch_insert\u001b[0m\u001b[0;34m(\u001b[0m\u001b[0moperation\u001b[0m\u001b[0;34m,\u001b[0m \u001b[0mseq_params\u001b[0m\u001b[0;34m)\u001b[0m\u001b[0;34m\u001b[0m\u001b[0;34m\u001b[0m\u001b[0m\n\u001b[1;32m    351\u001b[0m             \u001b[0;32mif\u001b[0m \u001b[0mstmt\u001b[0m \u001b[0;32mis\u001b[0m \u001b[0;32mnot\u001b[0m \u001b[0;32mNone\u001b[0m\u001b[0;34m:\u001b[0m\u001b[0;34m\u001b[0m\u001b[0;34m\u001b[0m\u001b[0m\n\u001b[0;32m--> 352\u001b[0;31m                 \u001b[0;32mreturn\u001b[0m \u001b[0mself\u001b[0m\u001b[0;34m.\u001b[0m\u001b[0mexecute\u001b[0m\u001b[0;34m(\u001b[0m\u001b[0mstmt\u001b[0m\u001b[0;34m)\u001b[0m\u001b[0;34m\u001b[0m\u001b[0;34m\u001b[0m\u001b[0m\n\u001b[0m\u001b[1;32m    353\u001b[0m \u001b[0;34m\u001b[0m\u001b[0m\n\u001b[1;32m    354\u001b[0m         \u001b[0mrowcnt\u001b[0m \u001b[0;34m=\u001b[0m \u001b[0;36m0\u001b[0m\u001b[0;34m\u001b[0m\u001b[0;34m\u001b[0m\u001b[0m\n",
      "\u001b[0;32m~/anaconda3/lib/python3.7/site-packages/mysql/connector/cursor_cext.py\u001b[0m in \u001b[0;36mexecute\u001b[0;34m(self, operation, params, multi)\u001b[0m\n\u001b[1;32m    264\u001b[0m             result = self._cnx.cmd_query(stmt, raw=self._raw,\n\u001b[1;32m    265\u001b[0m                                          \u001b[0mbuffered\u001b[0m\u001b[0;34m=\u001b[0m\u001b[0mself\u001b[0m\u001b[0;34m.\u001b[0m\u001b[0m_buffered\u001b[0m\u001b[0;34m,\u001b[0m\u001b[0;34m\u001b[0m\u001b[0;34m\u001b[0m\u001b[0m\n\u001b[0;32m--> 266\u001b[0;31m                                          raw_as_string=self._raw_as_string)\n\u001b[0m\u001b[1;32m    267\u001b[0m         \u001b[0;32mexcept\u001b[0m \u001b[0mMySQLInterfaceError\u001b[0m \u001b[0;32mas\u001b[0m \u001b[0mexc\u001b[0m\u001b[0;34m:\u001b[0m\u001b[0;34m\u001b[0m\u001b[0;34m\u001b[0m\u001b[0m\n\u001b[1;32m    268\u001b[0m             raise errors.get_mysql_exception(msg=exc.msg, errno=exc.errno,\n",
      "\u001b[0;32m~/anaconda3/lib/python3.7/site-packages/mysql/connector/connection_cext.py\u001b[0m in \u001b[0;36mcmd_query\u001b[0;34m(self, query, raw, buffered, raw_as_string)\u001b[0m\n\u001b[1;32m    490\u001b[0m         \u001b[0;32mexcept\u001b[0m \u001b[0mMySQLInterfaceError\u001b[0m \u001b[0;32mas\u001b[0m \u001b[0mexc\u001b[0m\u001b[0;34m:\u001b[0m\u001b[0;34m\u001b[0m\u001b[0;34m\u001b[0m\u001b[0m\n\u001b[1;32m    491\u001b[0m             raise errors.get_mysql_exception(exc.errno, msg=exc.msg,\n\u001b[0;32m--> 492\u001b[0;31m                                              sqlstate=exc.sqlstate)\n\u001b[0m\u001b[1;32m    493\u001b[0m         \u001b[0;32mexcept\u001b[0m \u001b[0mAttributeError\u001b[0m\u001b[0;34m:\u001b[0m\u001b[0;34m\u001b[0m\u001b[0;34m\u001b[0m\u001b[0m\n\u001b[1;32m    494\u001b[0m             \u001b[0;32mif\u001b[0m \u001b[0mself\u001b[0m\u001b[0;34m.\u001b[0m\u001b[0m_unix_socket\u001b[0m\u001b[0;34m:\u001b[0m\u001b[0;34m\u001b[0m\u001b[0;34m\u001b[0m\u001b[0m\n",
      "\u001b[0;31mDataError\u001b[0m: 1292 (22007): Incorrect date value: 'NULL' for column 'i_rec_end_date' at row 1"
     ]
    }
   ],
   "source": [
    "insert_rows(cur = cur, conn = conn ,columns = col,table = 'item' ,data= item1 )"
   ]
  },
  {
   "cell_type": "code",
   "execution_count": 121,
   "metadata": {
    "tags": []
   },
   "outputs": [
    {
     "output_type": "execute_result",
     "data": {
      "text/plain": "'insert into item  (i_item_sk, i_item_id, i_rec_start_date, i_rec_end_date, i_item_desc, i_current_price, i_wholesale_cost, i_brand_id, i_brand, i_class_id, i_class, i_category_id, i_category, i_manufact_id, i_manufact, i_size, i_formulation, i_color, i_units, i_container, i_manager_id, i_product_name) values (%s, %s, %s, %s, %s, %s, %s, %s, %s, %s, %s, %s, %s, %s, %s, %s, %s, %s, %s, %s, %s, %s)'"
     },
     "metadata": {},
     "execution_count": 121
    }
   ],
   "source": [
    "insert_data(columns = col,table = 'item' )"
   ]
  },
  {
   "cell_type": "code",
   "execution_count": 152,
   "metadata": {},
   "outputs": [],
   "source": [
    "item1['i_item_sk']  = item1['i_item_sk'].astype('float')"
   ]
  },
  {
   "cell_type": "code",
   "execution_count": 83,
   "metadata": {},
   "outputs": [],
   "source": [
    "xx = item.iloc[1:10]"
   ]
  },
  {
   "cell_type": "code",
   "execution_count": 96,
   "metadata": {},
   "outputs": [
    {
     "output_type": "execute_result",
     "data": {
      "text/plain": "22"
     },
     "metadata": {},
     "execution_count": 96
    }
   ],
   "source": [
    "len(item.columns)"
   ]
  },
  {
   "cell_type": "code",
   "execution_count": 94,
   "metadata": {},
   "outputs": [
    {
     "output_type": "execute_result",
     "data": {
      "text/plain": "22"
     },
     "metadata": {},
     "execution_count": 94
    }
   ],
   "source": [
    "len(xx.iloc[1].values)\n",
    "\n"
   ]
  },
  {
   "cell_type": "code",
   "execution_count": 129,
   "metadata": {},
   "outputs": [
    {
     "output_type": "execute_result",
     "data": {
      "text/plain": "   i_item_sk         i_item_id i_rec_start_date i_rec_end_date  \\\n0        1.0  AAAAAAAABAAAAAAA       1997-10-27           None   \n1        2.0  AAAAAAAACAAAAAAA       1997-10-27     2000-10-26   \n2        3.0  AAAAAAAACAAAAAAA       2000-10-27           None   \n\n                                         i_item_desc i_current_price  \\\n0  Powers will not get influences. Electoral port...           27.02   \n1  False opportunities would run alone with a vie...            1.12   \n2  False opportunities would run alone with a vie...            7.11   \n\n  i_wholesale_cost i_brand_id            i_brand i_class_id  ... i_category  \\\n0            23.23  5.003e+06  exportischolar #2          3  ...      Music   \n1             0.38  1.001e+06      amalgamalg #1          1  ...      Women   \n2             0.38  1.001e+06      brandbrand #4          7  ...       Home   \n\n  i_manufact_id   i_manufact  i_size         i_formulation i_color i_units  \\\n0            52     ableanti     N/A  3663peru009490160959  spring     Tsp   \n1           294  esen stable  petite  516steel060826230906    rosy   Bunch   \n2           294  esen stable     N/A  516steel060826230906  sienna     Cup   \n\n  i_container i_manager_id i_product_name  \n0     Unknown            6          ought  \n1     Unknown           98           able  \n2     Unknown           18            pri  \n\n[3 rows x 22 columns]",
      "text/html": "<div>\n<style scoped>\n    .dataframe tbody tr th:only-of-type {\n        vertical-align: middle;\n    }\n\n    .dataframe tbody tr th {\n        vertical-align: top;\n    }\n\n    .dataframe thead th {\n        text-align: right;\n    }\n</style>\n<table border=\"1\" class=\"dataframe\">\n  <thead>\n    <tr style=\"text-align: right;\">\n      <th></th>\n      <th>i_item_sk</th>\n      <th>i_item_id</th>\n      <th>i_rec_start_date</th>\n      <th>i_rec_end_date</th>\n      <th>i_item_desc</th>\n      <th>i_current_price</th>\n      <th>i_wholesale_cost</th>\n      <th>i_brand_id</th>\n      <th>i_brand</th>\n      <th>i_class_id</th>\n      <th>...</th>\n      <th>i_category</th>\n      <th>i_manufact_id</th>\n      <th>i_manufact</th>\n      <th>i_size</th>\n      <th>i_formulation</th>\n      <th>i_color</th>\n      <th>i_units</th>\n      <th>i_container</th>\n      <th>i_manager_id</th>\n      <th>i_product_name</th>\n    </tr>\n  </thead>\n  <tbody>\n    <tr>\n      <th>0</th>\n      <td>1.0</td>\n      <td>AAAAAAAABAAAAAAA</td>\n      <td>1997-10-27</td>\n      <td>None</td>\n      <td>Powers will not get influences. Electoral port...</td>\n      <td>27.02</td>\n      <td>23.23</td>\n      <td>5.003e+06</td>\n      <td>exportischolar #2</td>\n      <td>3</td>\n      <td>...</td>\n      <td>Music</td>\n      <td>52</td>\n      <td>ableanti</td>\n      <td>N/A</td>\n      <td>3663peru009490160959</td>\n      <td>spring</td>\n      <td>Tsp</td>\n      <td>Unknown</td>\n      <td>6</td>\n      <td>ought</td>\n    </tr>\n    <tr>\n      <th>1</th>\n      <td>2.0</td>\n      <td>AAAAAAAACAAAAAAA</td>\n      <td>1997-10-27</td>\n      <td>2000-10-26</td>\n      <td>False opportunities would run alone with a vie...</td>\n      <td>1.12</td>\n      <td>0.38</td>\n      <td>1.001e+06</td>\n      <td>amalgamalg #1</td>\n      <td>1</td>\n      <td>...</td>\n      <td>Women</td>\n      <td>294</td>\n      <td>esen stable</td>\n      <td>petite</td>\n      <td>516steel060826230906</td>\n      <td>rosy</td>\n      <td>Bunch</td>\n      <td>Unknown</td>\n      <td>98</td>\n      <td>able</td>\n    </tr>\n    <tr>\n      <th>2</th>\n      <td>3.0</td>\n      <td>AAAAAAAACAAAAAAA</td>\n      <td>2000-10-27</td>\n      <td>None</td>\n      <td>False opportunities would run alone with a vie...</td>\n      <td>7.11</td>\n      <td>0.38</td>\n      <td>1.001e+06</td>\n      <td>brandbrand #4</td>\n      <td>7</td>\n      <td>...</td>\n      <td>Home</td>\n      <td>294</td>\n      <td>esen stable</td>\n      <td>N/A</td>\n      <td>516steel060826230906</td>\n      <td>sienna</td>\n      <td>Cup</td>\n      <td>Unknown</td>\n      <td>18</td>\n      <td>pri</td>\n    </tr>\n  </tbody>\n</table>\n<p>3 rows × 22 columns</p>\n</div>"
     },
     "metadata": {},
     "execution_count": 129
    }
   ],
   "source": [
    "item1.head(3)"
   ]
  },
  {
   "cell_type": "code",
   "execution_count": 76,
   "metadata": {
    "tags": []
   },
   "outputs": [
    {
     "output_type": "stream",
     "name": "stdout",
     "text": "(2.0, 'AAAAAAAACAAAAAAA', '1997-10-27          ', '2000-10-26          ', 'False opportunities would run alone with a views. Early approaches would show inc, european intentions; important, main passages shall know urban, ', 1.12, 0.38, 1001001.0, 'amalgamalg #1                                     ', 1.0, 'dresses                                           ', 1.0, 'Women                                             ', 294.0, 'esen stable                                       ', 'petite              ', '516steel060826230906', 'rosy                ', 'Bunch     ', 'Unknown   ', 98.0, 'able                                              ')\n(3.0, 'AAAAAAAACAAAAAAA', '2000-10-27          ', nan, 'False opportunities would run alone with a views. Early approaches would show inc, european intentions; important, main passages shall know urban, ', 7.11, 0.38, 1001001.0, 'brandbrand #4                                     ', 7.0, 'decor                                             ', 7.0, 'Home                                              ', 294.0, 'esen stable                                       ', 'N/A                 ', '516steel060826230906', 'sienna              ', 'Cup       ', 'Unknown   ', 18.0, 'pri                                               ')\n(4.0, 'AAAAAAAAEAAAAAAA', '1997-10-27          ', '1999-10-27          ', 'Normal systems would join simply different theories. Full, new clothes may eat instead achievements. D', 1.35, 0.85, 3002001.0, 'importoexporti #1                                 ', 2.0, 'infants                                           ', 3.0, 'Children                                          ', 479.0, 'n stationese                                      ', 'extra large         ', '610157moccasin018327', 'red                 ', 'Tbl       ', 'Unknown   ', 26.0, 'ese                                               ')\n(5.0, 'AAAAAAAAEAAAAAAA', '1999-10-28          ', '2001-10-26          ', 'Normal systems would join simply different theories. Full, new clothes may eat instead achievements. D', 4.0, 1.76, 2002002.0, 'importoimporto #2                                 ', 2.0, 'shirts                                            ', 2.0, 'Men                                               ', 220.0, 'barableable                                       ', 'petite              ', '42214rosy28066558020', 'pink                ', 'Cup       ', 'Unknown   ', 27.0, 'anti                                              ')\n(6.0, 'AAAAAAAAEAAAAAAA', '2001-10-27          ', nan, 'Normal systems would join simply different theories. Full, new clothes may eat instead achievements. D', 0.85, 1.76, 2002002.0, 'exportiimporto #1                                 ', 3.0, 'pants                                             ', 2.0, 'Men                                               ', 212.0, 'barableable                                       ', 'large               ', '42214rosy28066558020', 'moccasin            ', 'Bundle    ', 'Unknown   ', 6.0, 'cally                                             ')\n(7.0, 'AAAAAAAAHAAAAAAA', '1997-10-27          ', nan, 'Anxious accounts must catch also years. Revolutionary, large directors used to embrace then mo', 9.94, 6.75, 3001002.0, 'amalgexporti #2                                   ', 1.0, 'newborn                                           ', 3.0, 'Children                                          ', 214.0, 'eseoughtable                                      ', 'petite              ', '6moccasin24027188872', 'spring              ', 'Tsp       ', 'Unknown   ', 64.0, 'ation                                             ')\n(8.0, 'AAAAAAAAIAAAAAAA', '1997-10-27          ', '2000-10-26          ', 'F', 2.76, 0.85, 3003001.0, 'exportiexporti #1                                 ', 3.0, 'toddlers                                          ', 3.0, 'Children                                          ', 630.0, 'barprically                                       ', 'extra large         ', '35123wheat3256343398', 'turquoise           ', 'Carton    ', 'Unknown   ', 25.0, 'eing                                              ')\n(9.0, 'AAAAAAAAIAAAAAAA', '2000-10-27          ', nan, 'F', 4.46, 0.85, 1004002.0, 'edu packamalg #2                                  ', 3.0, 'swimwear                                          ', 1.0, 'Women                                             ', 630.0, 'barprically                                       ', 'medium              ', '35123wheat3256343398', 'wheat               ', 'Tbl       ', 'Unknown   ', 3.0, 'n st                                              ')\n(10.0, 'AAAAAAAAKAAAAAAA', '1997-10-27          ', '1999-10-27          ', 'Classical services go trousers. However great galleries might say needs. Assumptions change very in favour of the notes. Teeth woul', 8.94, 4.11, 10008011.0, 'namelessunivamalg #11                             ', 8.0, 'scanners                                          ', 10.0, 'Electronics                                       ', 350.0, 'barantipri                                        ', 'N/A                 ', '8159007505thistle447', 'pale                ', 'Tsp       ', 'Unknown   ', 34.0, 'barought                                          ')\n"
    }
   ],
   "source": [
    "for i in xx.index:\n",
    "    print(tuple(xx.iloc[i-1].values))"
   ]
  },
  {
   "cell_type": "code",
   "execution_count": 79,
   "metadata": {},
   "outputs": [],
   "source": [
    "#"
   ]
  },
  {
   "cell_type": "code",
   "execution_count": 49,
   "metadata": {},
   "outputs": [
    {
     "output_type": "error",
     "ename": "AttributeError",
     "evalue": "'DataFrame' object has no attribute 'select_dtype'",
     "traceback": [
      "\u001b[0;31m---------------------------------------------------------------------------\u001b[0m",
      "\u001b[0;31mAttributeError\u001b[0m                            Traceback (most recent call last)",
      "\u001b[0;32m<ipython-input-49-2af77e83bda3>\u001b[0m in \u001b[0;36m<module>\u001b[0;34m\u001b[0m\n\u001b[0;32m----> 1\u001b[0;31m \u001b[0mxx\u001b[0m\u001b[0;34m.\u001b[0m\u001b[0mselect_dtype\u001b[0m\u001b[0;34m\u001b[0m\u001b[0;34m\u001b[0m\u001b[0m\n\u001b[0m",
      "\u001b[0;32m~/anaconda3/lib/python3.7/site-packages/pandas/core/generic.py\u001b[0m in \u001b[0;36m__getattr__\u001b[0;34m(self, name)\u001b[0m\n\u001b[1;32m   5272\u001b[0m             \u001b[0;32mif\u001b[0m \u001b[0mself\u001b[0m\u001b[0;34m.\u001b[0m\u001b[0m_info_axis\u001b[0m\u001b[0;34m.\u001b[0m\u001b[0m_can_hold_identifiers_and_holds_name\u001b[0m\u001b[0;34m(\u001b[0m\u001b[0mname\u001b[0m\u001b[0;34m)\u001b[0m\u001b[0;34m:\u001b[0m\u001b[0;34m\u001b[0m\u001b[0;34m\u001b[0m\u001b[0m\n\u001b[1;32m   5273\u001b[0m                 \u001b[0;32mreturn\u001b[0m \u001b[0mself\u001b[0m\u001b[0;34m[\u001b[0m\u001b[0mname\u001b[0m\u001b[0;34m]\u001b[0m\u001b[0;34m\u001b[0m\u001b[0;34m\u001b[0m\u001b[0m\n\u001b[0;32m-> 5274\u001b[0;31m             \u001b[0;32mreturn\u001b[0m \u001b[0mobject\u001b[0m\u001b[0;34m.\u001b[0m\u001b[0m__getattribute__\u001b[0m\u001b[0;34m(\u001b[0m\u001b[0mself\u001b[0m\u001b[0;34m,\u001b[0m \u001b[0mname\u001b[0m\u001b[0;34m)\u001b[0m\u001b[0;34m\u001b[0m\u001b[0;34m\u001b[0m\u001b[0m\n\u001b[0m\u001b[1;32m   5275\u001b[0m \u001b[0;34m\u001b[0m\u001b[0m\n\u001b[1;32m   5276\u001b[0m     \u001b[0;32mdef\u001b[0m \u001b[0m__setattr__\u001b[0m\u001b[0;34m(\u001b[0m\u001b[0mself\u001b[0m\u001b[0;34m,\u001b[0m \u001b[0mname\u001b[0m\u001b[0;34m:\u001b[0m \u001b[0mstr\u001b[0m\u001b[0;34m,\u001b[0m \u001b[0mvalue\u001b[0m\u001b[0;34m)\u001b[0m \u001b[0;34m->\u001b[0m \u001b[0;32mNone\u001b[0m\u001b[0;34m:\u001b[0m\u001b[0;34m\u001b[0m\u001b[0;34m\u001b[0m\u001b[0m\n",
      "\u001b[0;31mAttributeError\u001b[0m: 'DataFrame' object has no attribute 'select_dtype'"
     ]
    }
   ],
   "source": [
    "string_datatype = ['object','bool']\n",
    "numerical_datatype = ['int64']\n",
    "time_stamp = ['datetime64','timedelta[ns]']"
   ]
  },
  {
   "cell_type": "code",
   "execution_count": null,
   "metadata": {},
   "outputs": [],
   "source": [
    "string_datatype = ['object','category','bool']\n",
    "numerical_datatype = ['int64','float64']\n",
    "time_stamp = ['datetime64','timedelta[ns]']"
   ]
  },
  {
   "cell_type": "code",
   "execution_count": 87,
   "metadata": {
    "tags": []
   },
   "outputs": [],
   "source": [
    "\n",
    "for i in xx.columns:\n",
    "   if  xx[i].dtypes == 'float64':\n",
    "        xx[i] = xx[i].astype('str')"
   ]
  },
  {
   "cell_type": "code",
   "execution_count": null,
   "metadata": {},
   "outputs": [],
   "source": [
    "if dt in string_datatype:\n",
    "    type_ = 'str'\n",
    "if dt in string_datatype:\n",
    "    type_num = 'float64'\n",
    "if df in time_stamp:\n",
    "    type_time ='datetime64'"
   ]
  },
  {
   "cell_type": "code",
   "execution_count": 89,
   "metadata": {},
   "outputs": [
    {
     "output_type": "execute_result",
     "data": {
      "text/plain": "i_item_sk           object\ni_item_id           object\ni_rec_start_date    object\ni_rec_end_date      object\ni_item_desc         object\ni_current_price     object\ni_wholesale_cost    object\ni_brand_id          object\ni_brand             object\ni_class_id          object\ni_class             object\ni_category_id       object\ni_category          object\ni_manufact_id       object\ni_manufact          object\ni_size              object\ni_formulation       object\ni_color             object\ni_units             object\ni_container         object\ni_manager_id        object\ni_product_name      object\ndtype: object"
     },
     "metadata": {},
     "execution_count": 89
    }
   ],
   "source": [
    "for col in d.columns:\n",
    "    if d[col].dtypes in numerical_datatype:\n",
    "        d[col] = list(map(lambda x : float(x),d[col]))\n",
    "    elif d[col].dtype in string_datatype:\n",
    "        d[col] = list(map(lambda x : str(x),d[col]))\n",
    "    else:\n",
    "        pass\n",
    "    "
   ]
  },
  {
   "cell_type": "code",
   "execution_count": 2,
   "metadata": {},
   "outputs": [
    {
     "output_type": "execute_result",
     "data": {
      "text/plain": "(11745000, 4)"
     },
     "metadata": {},
     "execution_count": 2
    }
   ],
   "source": [
    "import pandas as pd\n",
    "df = pd.read_csv('../retailer/data/dat/inventory.dat',sep=\"|\",skipinitialspace=True)\n",
    "df.shape"
   ]
  },
  {
   "cell_type": "code",
   "execution_count": null,
   "metadata": {},
   "outputs": [],
   "source": []
  }
 ]
}