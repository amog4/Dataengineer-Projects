{
 "metadata": {
  "language_info": {
   "codemirror_mode": {
    "name": "ipython",
    "version": 3
   },
   "file_extension": ".py",
   "mimetype": "text/x-python",
   "name": "python",
   "nbconvert_exporter": "python",
   "pygments_lexer": "ipython3",
   "version": "3.7.6-final"
  },
  "orig_nbformat": 2,
  "kernelspec": {
   "name": "python_defaultSpec_1601988678285",
   "display_name": "Python 3.7.6 64-bit ('base': conda)"
  }
 },
 "nbformat": 4,
 "nbformat_minor": 2,
 "cells": [
  {
   "cell_type": "code",
   "execution_count": 1,
   "metadata": {},
   "outputs": [],
   "source": [
    "import pandas as pd"
   ]
  },
  {
   "cell_type": "markdown",
   "metadata": {},
   "source": []
  },
  {
   "cell_type": "code",
   "execution_count": 91,
   "metadata": {},
   "outputs": [],
   "source": [
    "x = [{'amogh':'kp','num':900,'value': {'dog':90,'f':99}},{'cat':'dog'},{'amogh': 'kp', 'num': 900}, {'value': {'dog':90,'f':99}}]"
   ]
  },
  {
   "cell_type": "code",
   "execution_count": 92,
   "metadata": {},
   "outputs": [
    {
     "output_type": "execute_result",
     "data": {
      "text/plain": "[{'amogh': 'kp', 'num': 900, 'value': {'dog': 90, 'f': 99}},\n {'cat': 'dog'},\n {'amogh': 'kp', 'num': 900},\n {'value': {'dog': 90, 'f': 99}}]"
     },
     "metadata": {},
     "execution_count": 92
    }
   ],
   "source": [
    "x"
   ]
  },
  {
   "cell_type": "code",
   "execution_count": 97,
   "metadata": {
    "tags": []
   },
   "outputs": [],
   "source": [
    "xx = {}\n",
    "for ind in range(len(x)):\n",
    "    s = x[ind]\n",
    "    for key, value in s.items():\n",
    "        if key in xx:\n",
    "            if isinstance(value,dict):\n",
    "                for key_, value_ in value.items():\n",
    "                    if key+ '.'+key_ in xx:\n",
    "                        xx[key+ '.'+key_].append(value_)\n",
    "                    else:\n",
    "                        xx[key+ '.'+key_] = [value_]\n",
    "            \n",
    "            xx[key].append(\"hello\") \n",
    "        else:\n",
    "            if isinstance(value,dict):\n",
    "                for key_, value_ in value.items():\n",
    "                    if key+ '.'+key_ in xx:\n",
    "                        xx[key+ '.'+key_].append(value_)\n",
    "                    else:\n",
    "                        xx[key+ '.'+key_] = [value_]\n",
    "            xx[key] = [value]"
   ]
  },
  {
   "cell_type": "code",
   "execution_count": 98,
   "metadata": {},
   "outputs": [
    {
     "output_type": "execute_result",
     "data": {
      "text/plain": "'value.value'"
     },
     "metadata": {},
     "execution_count": 98
    }
   ],
   "source": [
    "key+ '.'+key"
   ]
  },
  {
   "cell_type": "code",
   "execution_count": 100,
   "metadata": {},
   "outputs": [
    {
     "output_type": "execute_result",
     "data": {
      "text/plain": "{'amogh': ['kp', 'hello'],\n 'num': [900, 'hello'],\n 'value.dog': [90, 90],\n 'value.f': [99, 99],\n 'value': [{'dog': 90, 'f': 99}, 'hello'],\n 'cat': ['dog']}"
     },
     "metadata": {},
     "execution_count": 100
    }
   ],
   "source": [
    "xx"
   ]
  },
  {
   "cell_type": "code",
   "execution_count": 1,
   "metadata": {},
   "outputs": [],
   "source": [
    "import copy \n",
    "import json\n",
    "import re\n",
    "import sys\n",
    "from math import isnan\n",
    "import six\n"
   ]
  },
  {
   "cell_type": "code",
   "execution_count": 2,
   "metadata": {},
   "outputs": [],
   "source": [
    "\n",
    "try:\n",
    "    # 3.8 and up\n",
    "    from collections.abc import Iterable\n",
    "except ImportError:\n",
    "    from collections import Iterable"
   ]
  },
  {
   "cell_type": "code",
   "execution_count": 14,
   "metadata": {},
   "outputs": [],
   "source": [
    "previous_key = '1'\n",
    "separator =':'\n",
    "new_key = ':'\n",
    "replace_separators='::'"
   ]
  },
  {
   "cell_type": "code",
   "execution_count": null,
   "metadata": {},
   "outputs": [],
   "source": [
    "if replace_separators is not None:\n",
    "    new_key = str(new_key).replace(separator,replace_separators)"
   ]
  },
  {
   "cell_type": "code",
   "execution_count": 15,
   "metadata": {},
   "outputs": [],
   "source": [
    " new_key = str(new_key).replace(separator,replace_separators)"
   ]
  },
  {
   "cell_type": "code",
   "execution_count": 16,
   "metadata": {},
   "outputs": [
    {
     "output_type": "execute_result",
     "data": {
      "text/plain": "'::'"
     },
     "metadata": {},
     "execution_count": 16
    }
   ],
   "source": [
    " new_key "
   ]
  },
  {
   "cell_type": "code",
   "execution_count": 17,
   "metadata": {},
   "outputs": [
    {
     "output_type": "execute_result",
     "data": {
      "text/plain": "'1:::'"
     },
     "metadata": {},
     "execution_count": 17
    }
   ],
   "source": [
    "u\"{}{}{}\".format(previous_key, separator, new_key)"
   ]
  },
  {
   "cell_type": "code",
   "execution_count": 171,
   "metadata": {},
   "outputs": [],
   "source": [
    "def _construct_key(previous_key, separator, new_key, replace_separators=None):\n",
    "    \"\"\"\n",
    "    Returns the new_key if no previous key exists, otherwise concatenates\n",
    "    previous key, separator, and new_key\n",
    "    :param previous_key:\n",
    "    :param separator:\n",
    "    :param new_key:\n",
    "    :param str replace_separators: Replace separators within keys\n",
    "    :return: a string if previous_key exists and simply passes through the\n",
    "    new_key otherwise\n",
    "    \"\"\" \n",
    "    if replace_separators is not None:\n",
    "        new_key = str(new_key).replace(separator, replace_separators)\n",
    "    if previous_key:\n",
    "        print(previous_key)\n",
    "        return u\"{}{}{}\".format(previous_key, separator, new_key)\n",
    "    else:\n",
    "        return new_key"
   ]
  },
  {
   "cell_type": "code",
   "execution_count": 78,
   "metadata": {},
   "outputs": [
    {
     "output_type": "execute_result",
     "data": {
      "text/plain": "'g_f'"
     },
     "metadata": {},
     "execution_count": 78
    }
   ],
   "source": [
    "_construct_key(previous_key ='g', separator='_', new_key ='f', replace_separators=':')"
   ]
  },
  {
   "cell_type": "code",
   "execution_count": 116,
   "metadata": {},
   "outputs": [],
   "source": [
    "nested_dict = {'c':{'lop':1}}"
   ]
  },
  {
   "cell_type": "code",
   "execution_count": 28,
   "metadata": {},
   "outputs": [],
   "source": [
    "assert isinstance(nested_dict, dict), \"flatten requires a dictionary input\"\n",
    "assert isinstance(separator, six.string_types), \"separator must be string\""
   ]
  },
  {
   "cell_type": "code",
   "execution_count": 29,
   "metadata": {},
   "outputs": [],
   "source": [
    "flattened_dict = dict()"
   ]
  },
  {
   "cell_type": "code",
   "execution_count": 114,
   "metadata": {},
   "outputs": [],
   "source": [
    "flattened_dict[':'] =   {'c':{'lop':1}}"
   ]
  },
  {
   "cell_type": "code",
   "execution_count": 66,
   "metadata": {},
   "outputs": [],
   "source": [
    "flattened_dict = dict()"
   ]
  },
  {
   "cell_type": "code",
   "execution_count": 73,
   "metadata": {},
   "outputs": [],
   "source": [
    "if not '3':\n",
    "    flattened_dict[':'] =   '2'"
   ]
  },
  {
   "cell_type": "code",
   "execution_count": 74,
   "metadata": {},
   "outputs": [
    {
     "output_type": "execute_result",
     "data": {
      "text/plain": "{}"
     },
     "metadata": {},
     "execution_count": 74
    }
   ],
   "source": [
    " flattened_dict"
   ]
  },
  {
   "cell_type": "code",
   "execution_count": 76,
   "metadata": {
    "tags": []
   },
   "outputs": [
    {
     "output_type": "stream",
     "name": "stdout",
     "text": "lop\n"
    }
   ],
   "source": [
    "for object_key in nested_dict:\n",
    "    print(object_key)"
   ]
  },
  {
   "cell_type": "code",
   "execution_count": 112,
   "metadata": {},
   "outputs": [
    {
     "output_type": "error",
     "ename": "SyntaxError",
     "evalue": "invalid syntax (<ipython-input-112-aed832e93915>, line 3)",
     "traceback": [
      "\u001b[0;36m  File \u001b[0;32m\"<ipython-input-112-aed832e93915>\"\u001b[0;36m, line \u001b[0;32m3\u001b[0m\n\u001b[0;31m    'c': u'c1': '3', 'c2': '4'}\u001b[0m\n\u001b[0m              ^\u001b[0m\n\u001b[0;31mSyntaxError\u001b[0m\u001b[0;31m:\u001b[0m invalid syntax\n"
     ]
    }
   ],
   "source": [
    "d = [1,{2},4,3,4]"
   ]
  },
  {
   "cell_type": "code",
   "execution_count": null,
   "metadata": {},
   "outputs": [],
   "source": []
  },
  {
   "cell_type": "code",
   "execution_count": 107,
   "metadata": {
    "tags": []
   },
   "outputs": [
    {
     "output_type": "stream",
     "name": "stdout",
     "text": "a\nNone_f\nñ\nNone_f\nc\nNone_f\n"
    }
   ],
   "source": [
    "for ind in dic:\n",
    "    for x in ind:\n",
    "        print(_construct_key(previous_key =None, separator = '_', new_key = x, replace_separators=None))\n",
    "        print(u\"{}{}{}\".format(None,'_', 'f'))"
   ]
  },
  {
   "cell_type": "code",
   "execution_count": 108,
   "metadata": {},
   "outputs": [],
   "source": [
    "def flatten(\n",
    "        nested_dict,\n",
    "        separator=\"_\",\n",
    "        root_keys_to_ignore=set(),\n",
    "        replace_separators=None):\n",
    "    \"\"\"\n",
    "    Flattens a dictionary with nested structure to a dictionary with no\n",
    "    hierarchy\n",
    "    Consider ignoring keys that you are not interested in to prevent\n",
    "    unnecessary processing\n",
    "    This is specially true for very deep objects\n",
    "    :param nested_dict: dictionary we want to flatten\n",
    "    :param separator: string to separate dictionary keys by\n",
    "    :param root_keys_to_ignore: set of root keys to ignore from flattening\n",
    "    :param str replace_separators: Replace separators within keys\n",
    "    :return: flattened dictionary\n",
    "    \"\"\"\n",
    "    assert isinstance(nested_dict, dict), \"flatten requires a dictionary input\"\n",
    "    assert isinstance(separator, six.string_types), \"separator must be string\"\n",
    "\n",
    "    # This global dictionary stores the flattened keys and values and is\n",
    "    # ultimately returned\n",
    "    flattened_dict = dict()\n",
    "\n",
    "    def _flatten(object_, key):\n",
    "        \"\"\"\n",
    "        For dict, list and set objects_ calls itself on the elements and for\n",
    "        other types assigns the object_ to\n",
    "        the corresponding key in the global flattened_dict\n",
    "        :param object_: object to flatten\n",
    "        :param key: carries the concatenated key for the object_\n",
    "        :return: None\n",
    "        \"\"\"\n",
    "        # Empty object can't be iterated, take as is\n",
    "        if not object_:\n",
    "            flattened_dict[key] = object_\n",
    "        # These object types support iteration\n",
    "        elif isinstance(object_, dict):\n",
    "            for object_key in object_:\n",
    "                if not (not key and object_key in root_keys_to_ignore):\n",
    "                    _flatten(\n",
    "                        object_[object_key],\n",
    "                        _construct_key(\n",
    "                            key,\n",
    "                            separator,\n",
    "                            object_key,\n",
    "                            replace_separators=replace_separators))\n",
    "        elif isinstance(object_, (list, set, tuple)):\n",
    "            for index, item in enumerate(object_):\n",
    "                _flatten(\n",
    "                    item,\n",
    "                    _construct_key(\n",
    "                        key,\n",
    "                        separator,\n",
    "                        index,\n",
    "                        replace_separators=replace_separators))\n",
    "        # Anything left take as is\n",
    "        else:\n",
    "            flattened_dict[key] = object_\n",
    "\n",
    "    _flatten(nested_dict, None)\n",
    "    return flattened_dict\n",
    "\n",
    "\n",
    "flatten_json = flatten"
   ]
  },
  {
   "cell_type": "code",
   "execution_count": 87,
   "metadata": {},
   "outputs": [],
   "source": [
    "dic = {'a': '1',\n",
    "               'b': '2',\n",
    "               'c': {'c1': '3', 'c2': '4'}\n",
    "               }\n",
    "        expected = {'a': '1', 'b': '2', 'c*c1': '3', 'c*c2': '4'}"
   ]
  },
  {
   "cell_type": "code",
   "execution_count": 95,
   "metadata": {
    "tags": []
   },
   "outputs": [
    {
     "output_type": "stream",
     "name": "stdout",
     "text": "{'a': '1', 'ñ': 'áéö', 'c': {'c1': '3', 'c2': '4'}}\n"
    }
   ],
   "source": [
    "for ind in dic:\n",
    "    print(ind)"
   ]
  },
  {
   "cell_type": "code",
   "execution_count": 138,
   "metadata": {},
   "outputs": [
    {
     "output_type": "execute_result",
     "data": {
      "text/plain": "{'c_lop': 1}"
     },
     "metadata": {},
     "execution_count": 138
    }
   ],
   "source": [
    "flatten(nested_dict=nested_dict)"
   ]
  },
  {
   "cell_type": "code",
   "execution_count": 201,
   "metadata": {},
   "outputs": [],
   "source": [
    "flattened_dict = dict()"
   ]
  },
  {
   "cell_type": "code",
   "execution_count": 202,
   "metadata": {},
   "outputs": [],
   "source": [
    "object_ = {'c':{'d':'dd'},'3':'e'}"
   ]
  },
  {
   "cell_type": "code",
   "execution_count": 203,
   "metadata": {},
   "outputs": [],
   "source": [
    "def _construct_key(previous_key, separator, new_key, replace_separators=None):\n",
    "    \"\"\"\n",
    "    Returns the new_key if no previous key exists, otherwise concatenates\n",
    "    previous key, separator, and new_key\n",
    "    :param previous_key:\n",
    "    :param separator:\n",
    "    :param new_key:\n",
    "    :param str replace_separators: Replace separators within keys\n",
    "    :return: a string if previous_key exists and simply passes through the\n",
    "    new_key otherwise\n",
    "    \"\"\" \n",
    "    if replace_separators is not None:\n",
    "        new_key = str(new_key).replace(separator, replace_separators)\n",
    "    if previous_key:\n",
    "        print('previous_key {}'.format(previous_key))\n",
    "        return u\"{}{}{}\".format(previous_key, separator, new_key)\n",
    "    else:\n",
    "        return new_key"
   ]
  },
  {
   "cell_type": "code",
   "execution_count": 210,
   "metadata": {},
   "outputs": [],
   "source": [
    "def flatten(object_,key):\n",
    "    print(object_)\n",
    "    if not object_ :\n",
    "        flattened_dict[key] = object_\n",
    "\n",
    "    elif isinstance(object_, dict):\n",
    "        for object_key in object_:\n",
    "            print('object_key {}'.format(object_key ))\n",
    "            flatten(\n",
    "                object_[object_key],\n",
    "                _construct_key(\n",
    "                    key,\n",
    "                    separator,\n",
    "                    object_key,\n",
    "                    replace_separators=replace_separators))\n",
    "                    \n",
    "    elif isinstance(object_, (list, set, tuple)):\n",
    "        for index, item in enumerate(object_):\n",
    "            flatten(\n",
    "                item,\n",
    "                _construct_key(\n",
    "                    key,\n",
    "                    separator,\n",
    "                    index,\n",
    "                    replace_separators=replace_separators))\n",
    "\n",
    "    else:\n",
    "        flattened_dict[key] = object_\n",
    "\n",
    "\n",
    "\n"
   ]
  },
  {
   "cell_type": "code",
   "execution_count": 211,
   "metadata": {},
   "outputs": [],
   "source": [
    "dic = {'a': '1',\n",
    "               'b': '2',\n",
    "               'c': {'c1': '3', 'c2': '4'},'d': ['c1', '3', 'c2', '4']\n",
    "               }\n",
    "       "
   ]
  },
  {
   "cell_type": "code",
   "execution_count": 214,
   "metadata": {},
   "outputs": [
    {
     "output_type": "execute_result",
     "data": {
      "text/plain": "{'a': '1',\n 'b': '2',\n 'c:c1': '3',\n 'c:c2': '4',\n 'd:0': 'c1',\n 'd:1': '3',\n 'd:2': 'c2',\n 'd:3': '4'}"
     },
     "metadata": {},
     "execution_count": 214
    }
   ],
   "source": [
    "flattened_dict"
   ]
  },
  {
   "cell_type": "code",
   "execution_count": 213,
   "metadata": {
    "tags": []
   },
   "outputs": [
    {
     "output_type": "stream",
     "name": "stdout",
     "text": "{'a': '1', 'b': '2', 'c': {'c1': '3', 'c2': '4'}, 'd': ['c1', '3', 'c2', '4']}\nobject_key a\n1\nobject_key b\n2\nobject_key c\n{'c1': '3', 'c2': '4'}\nobject_key c1\nprevious_key c\n3\nobject_key c2\nprevious_key c\n4\nobject_key d\n['c1', '3', 'c2', '4']\nprevious_key d\nc1\nprevious_key d\n3\nprevious_key d\nc2\nprevious_key d\n4\n"
    }
   ],
   "source": [
    "flatten(object_ = dic,key=None)"
   ]
  },
  {
   "cell_type": "code",
   "execution_count": null,
   "metadata": {},
   "outputs": [],
   "source": []
  },
  {
   "cell_type": "code",
   "execution_count": 164,
   "metadata": {
    "tags": []
   },
   "outputs": [],
   "source": [
    "for i in d:\n",
    "    dict_key[i] = d"
   ]
  },
  {
   "cell_type": "code",
   "execution_count": 160,
   "metadata": {},
   "outputs": [
    {
     "output_type": "execute_result",
     "data": {
      "text/plain": "{'d': 'dd'}"
     },
     "metadata": {},
     "execution_count": 160
    }
   ],
   "source": [
    "d"
   ]
  },
  {
   "cell_type": "code",
   "execution_count": 162,
   "metadata": {},
   "outputs": [],
   "source": [
    "dict_key ={}"
   ]
  },
  {
   "cell_type": "code",
   "execution_count": 165,
   "metadata": {},
   "outputs": [
    {
     "output_type": "execute_result",
     "data": {
      "text/plain": "{'d': {'d': 'dd'}}"
     },
     "metadata": {},
     "execution_count": 165
    }
   ],
   "source": [
    "dict_key"
   ]
  },
  {
   "cell_type": "code",
   "execution_count": 167,
   "metadata": {},
   "outputs": [
    {
     "output_type": "execute_result",
     "data": {
      "text/plain": "'dd'"
     },
     "metadata": {},
     "execution_count": 167
    }
   ],
   "source": [
    "d['d']"
   ]
  },
  {
   "cell_type": "code",
   "execution_count": 2,
   "metadata": {},
   "outputs": [],
   "source": [
    "import math"
   ]
  },
  {
   "cell_type": "code",
   "execution_count": 5,
   "metadata": {},
   "outputs": [
    {
     "output_type": "execute_result",
     "data": {
      "text/plain": "10"
     },
     "metadata": {},
     "execution_count": 5
    }
   ],
   "source": [
    "math.ceil(91000/10000)"
   ]
  },
  {
   "cell_type": "code",
   "execution_count": 9,
   "metadata": {},
   "outputs": [
    {
     "output_type": "execute_result",
     "data": {
      "text/plain": "20000"
     },
     "metadata": {},
     "execution_count": 9
    }
   ],
   "source": [
    "2* 10000"
   ]
  },
  {
   "cell_type": "code",
   "execution_count": 11,
   "metadata": {
    "tags": []
   },
   "outputs": [
    {
     "output_type": "error",
     "ename": "AttributeError",
     "evalue": "'list' object has no attribute 'values'",
     "traceback": [
      "\u001b[0;31m---------------------------------------------------------------------------\u001b[0m",
      "\u001b[0;31mAttributeError\u001b[0m                            Traceback (most recent call last)",
      "\u001b[0;32m<ipython-input-11-e0b2bd3f4ddb>\u001b[0m in \u001b[0;36m<module>\u001b[0;34m\u001b[0m\n\u001b[1;32m      2\u001b[0m \u001b[0msales\u001b[0m \u001b[0;34m=\u001b[0m \u001b[0;34m[\u001b[0m\u001b[0;34m{\u001b[0m \u001b[0;34m'apple'\u001b[0m\u001b[0;34m:\u001b[0m \u001b[0;36m2\u001b[0m\u001b[0;34m,\u001b[0m \u001b[0;34m'orange'\u001b[0m\u001b[0;34m:\u001b[0m \u001b[0;36m3\u001b[0m\u001b[0;34m,\u001b[0m \u001b[0;34m'grapes'\u001b[0m\u001b[0;34m:\u001b[0m \u001b[0;36m4\u001b[0m \u001b[0;34m}\u001b[0m\u001b[0;34m,\u001b[0m\u001b[0;34m{\u001b[0m \u001b[0;34m'apple'\u001b[0m\u001b[0;34m:\u001b[0m \u001b[0;36m2\u001b[0m\u001b[0;34m,\u001b[0m \u001b[0;34m'orange'\u001b[0m\u001b[0;34m:\u001b[0m \u001b[0;36m3\u001b[0m\u001b[0;34m,\u001b[0m \u001b[0;34m'grapes'\u001b[0m\u001b[0;34m:\u001b[0m \u001b[0;36m4\u001b[0m \u001b[0;34m}\u001b[0m\u001b[0;34m]\u001b[0m\u001b[0;34m\u001b[0m\u001b[0;34m\u001b[0m\u001b[0m\n\u001b[1;32m      3\u001b[0m \u001b[0;34m\u001b[0m\u001b[0m\n\u001b[0;32m----> 4\u001b[0;31m \u001b[0mprint\u001b[0m\u001b[0;34m(\u001b[0m\u001b[0msales\u001b[0m\u001b[0;34m.\u001b[0m\u001b[0mvalues\u001b[0m\u001b[0;34m(\u001b[0m\u001b[0;34m)\u001b[0m\u001b[0;34m)\u001b[0m\u001b[0;34m\u001b[0m\u001b[0;34m\u001b[0m\u001b[0m\n\u001b[0m",
      "\u001b[0;31mAttributeError\u001b[0m: 'list' object has no attribute 'values'"
     ]
    }
   ],
   "source": [
    "# random sales dictionary\n",
    "sales = [{ 'apple': 2, 'orange': 3, 'grapes': 4 },{ 'apple': 2, 'orange': 3, 'grapes': 4 }]\n",
    "\n",
    "print(sales.values())"
   ]
  },
  {
   "cell_type": "code",
   "execution_count": 27,
   "metadata": {
    "tags": []
   },
   "outputs": [],
   "source": [
    "d = [ tuple(x) for i in [{ 'apple': 2, 'orange': 3, 'grapes': 4 },{ 'apple': 2, 'orange': 3, 'grapes': 4 }] for x in i.items() ]\n"
   ]
  },
  {
   "cell_type": "code",
   "execution_count": 28,
   "metadata": {},
   "outputs": [
    {
     "output_type": "execute_result",
     "data": {
      "text/plain": "[('apple', 2),\n ('orange', 3),\n ('grapes', 4),\n ('apple', 2),\n ('orange', 3),\n ('grapes', 4)]"
     },
     "metadata": {},
     "execution_count": 28
    }
   ],
   "source": [
    "d"
   ]
  },
  {
   "cell_type": "code",
   "execution_count": 29,
   "metadata": {},
   "outputs": [],
   "source": [
    "x =  [7,1,5,3,6,4]"
   ]
  },
  {
   "cell_type": "code",
   "execution_count": 100,
   "metadata": {},
   "outputs": [],
   "source": [
    "xx = []"
   ]
  },
  {
   "cell_type": "code",
   "execution_count": 101,
   "metadata": {
    "tags": []
   },
   "outputs": [
    {
     "output_type": "stream",
     "name": "stdout",
     "text": "yes\n"
    }
   ],
   "source": [
    "if not xx:\n",
    "    print('yes')"
   ]
  },
  {
   "cell_type": "code",
   "execution_count": 102,
   "metadata": {
    "tags": []
   },
   "outputs": [],
   "source": [
    "xx1 =[]\n",
    "for value in range(0,len(x)):\n",
    "    for ind in range(value+1,len(x)):\n",
    "        if x[ind] > x[value]:\n",
    "            if not xx:\n",
    "                xx.append(x[ind]-x[value])\n",
    "                xx1.append(x[ind])\n",
    "            elif xx[0] < x[ind]-x[value] :\n",
    "                xx.pop()\n",
    "                xx.append( x[ind] - x[value])\n",
    "                xx1.pop()\n",
    "                xx1.append(x[ind])\n",
    "            else:\n",
    "                pass\n"
   ]
  },
  {
   "cell_type": "code",
   "execution_count": 107,
   "metadata": {},
   "outputs": [],
   "source": [
    "namedict = ({\"first_name\":\"Joshua\", \"last_name\":\"Drake\"},\n",
    "            {\"first_name\":\"Steven\", \"last_name\":\"Foo\"},\n",
    "            {\"first_name\":\"David\", \"last_name\":\"Bar\"})"
   ]
  },
  {
   "cell_type": "code",
   "execution_count": 108,
   "metadata": {
    "tags": []
   },
   "outputs": [
    {
     "output_type": "stream",
     "name": "stdout",
     "text": "({'first_name': 'Joshua', 'last_name': 'Drake'}, {'first_name': 'Steven', 'last_name': 'Foo'}, {'first_name': 'David', 'last_name': 'Bar'})\n({'first_name': 'Joshua', 'last_name': 'Drake'}, {'first_name': 'Steven', 'last_name': 'Foo'}, {'first_name': 'David', 'last_name': 'Bar'})\n({'first_name': 'Joshua', 'last_name': 'Drake'}, {'first_name': 'Steven', 'last_name': 'Foo'}, {'first_name': 'David', 'last_name': 'Bar'})\n"
    }
   ],
   "source": [
    "for i in namedict:\n",
    "    print(namedict)"
   ]
  },
  {
   "cell_type": "code",
   "execution_count": 95,
   "metadata": {},
   "outputs": [
    {
     "output_type": "error",
     "ename": "IndexError",
     "evalue": "pop from empty list",
     "traceback": [
      "\u001b[0;31m---------------------------------------------------------------------------\u001b[0m",
      "\u001b[0;31mIndexError\u001b[0m                                Traceback (most recent call last)",
      "\u001b[0;32m<ipython-input-95-1d3b36883381>\u001b[0m in \u001b[0;36m<module>\u001b[0;34m\u001b[0m\n\u001b[0;32m----> 1\u001b[0;31m \u001b[0mxx\u001b[0m\u001b[0;34m.\u001b[0m\u001b[0mpop\u001b[0m\u001b[0;34m(\u001b[0m\u001b[0;34m)\u001b[0m\u001b[0;34m\u001b[0m\u001b[0;34m\u001b[0m\u001b[0m\n\u001b[0m",
      "\u001b[0;31mIndexError\u001b[0m: pop from empty list"
     ]
    }
   ],
   "source": [
    "xx.pop()"
   ]
  },
  {
   "cell_type": "code",
   "execution_count": 96,
   "metadata": {},
   "outputs": [
    {
     "output_type": "execute_result",
     "data": {
      "text/plain": "[6]"
     },
     "metadata": {},
     "execution_count": 96
    }
   ],
   "source": [
    "xx1"
   ]
  },
  {
   "cell_type": "code",
   "execution_count": 70,
   "metadata": {},
   "outputs": [],
   "source": [
    "string_datatype = ['object','bool']\n",
    "numerical_datatype = ['int64']\n",
    "time_stamp = ['datetime64','timedelta[ns]']"
   ]
  },
  {
   "cell_type": "code",
   "execution_count": null,
   "metadata": {},
   "outputs": [],
   "source": [
    "if dt in string_datatype:\n",
    "    type_ = 'str'\n",
    "if dt in string_datatype:\n",
    "    type_num = 'float64'\n",
    "if df in time_stamp:\n",
    "    type_time ='datetime64'\n"
   ]
  },
  {
   "cell_type": "code",
   "execution_count": 64,
   "metadata": {},
   "outputs": [],
   "source": [
    "namedict = ({\"first_name\":\"Joshua\", \"last_name\":3},\n",
    "            {\"first_name\":\"Steven\", \"last_name\":2},\n",
    "            {\"first_name\":\"David\", \"last_name\":1})"
   ]
  },
  {
   "cell_type": "code",
   "execution_count": 65,
   "metadata": {},
   "outputs": [],
   "source": [
    "import pandas as pf\n",
    "import numpy as np"
   ]
  },
  {
   "cell_type": "code",
   "execution_count": 66,
   "metadata": {},
   "outputs": [],
   "source": [
    "d = pf.DataFrame(namedict)"
   ]
  },
  {
   "cell_type": "code",
   "execution_count": 14,
   "metadata": {},
   "outputs": [
    {
     "output_type": "execute_result",
     "data": {
      "text/plain": "[('Joshua', 'Drake'), ('Steven', 'Foo'), ('David', 'Bar')]"
     },
     "metadata": {},
     "execution_count": 14
    }
   ],
   "source": [
    "[tuple(x) for x in d.iloc[0:100].values]"
   ]
  },
  {
   "cell_type": "code",
   "execution_count": 16,
   "metadata": {},
   "outputs": [
    {
     "output_type": "execute_result",
     "data": {
      "text/plain": "first_name    object\nlast_name     object\ndtype: object"
     },
     "metadata": {},
     "execution_count": 16
    }
   ],
   "source": [
    "d.dtypes"
   ]
  },
  {
   "cell_type": "code",
   "execution_count": 75,
   "metadata": {
    "tags": []
   },
   "outputs": [],
   "source": [
    "for col in d.columns:\n",
    "    if d[col].dtypes in numerical_datatype:\n",
    "        print('yes')\n",
    "        d[col] = list(map(lambda x : float(x),d[col]))\n",
    "    elif d[col].dtype in string_datatype:\n",
    "        d[col] = list(map(lambda x : str(x),d[col]))\n",
    "    else:\n",
    "        pass\n",
    "    \n"
   ]
  },
  {
   "cell_type": "code",
   "execution_count": 76,
   "metadata": {},
   "outputs": [
    {
     "output_type": "execute_result",
     "data": {
      "text/plain": "array([dtype('O'), dtype('float64')], dtype=object)"
     },
     "metadata": {},
     "execution_count": 76
    }
   ],
   "source": [
    "d.dtypes.values"
   ]
  },
  {
   "cell_type": "code",
   "execution_count": 53,
   "metadata": {},
   "outputs": [
    {
     "output_type": "execute_result",
     "data": {
      "text/plain": "'string'"
     },
     "metadata": {},
     "execution_count": 53
    }
   ],
   "source": [
    "pf.api.types.infer_dtype(d['first_name']) "
   ]
  },
  {
   "cell_type": "code",
   "execution_count": 60,
   "metadata": {},
   "outputs": [
    {
     "output_type": "execute_result",
     "data": {
      "text/plain": "'3'"
     },
     "metadata": {},
     "execution_count": 60
    }
   ],
   "source": [
    "d['last_name'][0]"
   ]
  },
  {
   "cell_type": "code",
   "execution_count": 19,
   "metadata": {},
   "outputs": [],
   "source": [
    "num = [1,4,3,2,5]"
   ]
  },
  {
   "cell_type": "code",
   "execution_count": 20,
   "metadata": {},
   "outputs": [],
   "source": [
    "num = sorted(num)"
   ]
  },
  {
   "cell_type": "code",
   "execution_count": 32,
   "metadata": {},
   "outputs": [
    {
     "output_type": "execute_result",
     "data": {
      "text/plain": "5"
     },
     "metadata": {},
     "execution_count": 32
    }
   ],
   "source": [
    "num[-1]"
   ]
  },
  {
   "cell_type": "code",
   "execution_count": 22,
   "metadata": {},
   "outputs": [
    {
     "output_type": "execute_result",
     "data": {
      "text/plain": "[1, 2, 3, 4, 5]"
     },
     "metadata": {},
     "execution_count": 22
    }
   ],
   "source": [
    "num"
   ]
  },
  {
   "cell_type": "code",
   "execution_count": 30,
   "metadata": {
    "tags": []
   },
   "outputs": [],
   "source": [
    "for n in range(0,len(num),-1):\n",
    "    print(n)"
   ]
  },
  {
   "cell_type": "code",
   "execution_count": 37,
   "metadata": {},
   "outputs": [],
   "source": [
    "nmm = num[:]"
   ]
  },
  {
   "cell_type": "code",
   "execution_count": 38,
   "metadata": {},
   "outputs": [
    {
     "output_type": "execute_result",
     "data": {
      "text/plain": "[1, 2, 3, 4]"
     },
     "metadata": {},
     "execution_count": 38
    }
   ],
   "source": [
    "nmm"
   ]
  },
  {
   "cell_type": "code",
   "execution_count": 39,
   "metadata": {},
   "outputs": [
    {
     "output_type": "execute_result",
     "data": {
      "text/plain": "4"
     },
     "metadata": {},
     "execution_count": 39
    }
   ],
   "source": [
    "nmm.pop()"
   ]
  },
  {
   "cell_type": "code",
   "execution_count": 50,
   "metadata": {},
   "outputs": [
    {
     "output_type": "execute_result",
     "data": {
      "text/plain": "[3]"
     },
     "metadata": {},
     "execution_count": 50
    }
   ],
   "source": [
    "num[-2:1:-1]"
   ]
  },
  {
   "cell_type": "code",
   "execution_count": null,
   "metadata": {},
   "outputs": [],
   "source": [
    "nmm[]"
   ]
  }
 ]
}