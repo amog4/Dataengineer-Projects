{
 "metadata": {
  "language_info": {
   "codemirror_mode": {
    "name": "ipython",
    "version": 3
   },
   "file_extension": ".py",
   "mimetype": "text/x-python",
   "name": "python",
   "nbconvert_exporter": "python",
   "pygments_lexer": "ipython3",
   "version": "3.7.6-final"
  },
  "orig_nbformat": 2,
  "kernelspec": {
   "name": "python_defaultSpec_1602822213195",
   "display_name": "Python 3.7.6 64-bit ('base': conda)"
  }
 },
 "nbformat": 4,
 "nbformat_minor": 2,
 "cells": [
  {
   "cell_type": "code",
   "execution_count": 52,
   "metadata": {},
   "outputs": [],
   "source": [
    "import pandas as pd\n",
    "import os\n",
    "import numpy as np \n",
    "import glob\n",
    "import csv\n",
    "import cassandra"
   ]
  },
  {
   "cell_type": "code",
   "execution_count": 53,
   "metadata": {
    "tags": []
   },
   "outputs": [],
   "source": [
    "#"
   ]
  },
  {
   "cell_type": "code",
   "execution_count": 54,
   "metadata": {
    "tags": []
   },
   "outputs": [],
   "source": [
    "\n",
    "filepath = os.getcwd() + '/event_data'\n",
    "\n",
    "for root, dirs , files in os.walk(filepath):\n",
    "    \n",
    "    required_paths = glob.glob(os.path.join(root,'*'))"
   ]
  },
  {
   "cell_type": "code",
   "execution_count": 55,
   "metadata": {
    "tags": []
   },
   "outputs": [],
   "source": [
    "# full data rows\n",
    "\n",
    "full_data_row = []\n",
    "for path in required_paths:\n",
    "    with open(path,'r') as _:\n",
    "        csvrows = csv.reader(_)\n",
    "        next(csvrows)\n",
    "        for line in csvrows:\n",
    "            full_data_row.append(line)    "
   ]
  },
  {
   "cell_type": "code",
   "execution_count": 56,
   "metadata": {},
   "outputs": [
    {
     "output_type": "execute_result",
     "data": {
      "text/plain": "8056"
     },
     "metadata": {},
     "execution_count": 56
    }
   ],
   "source": [
    "len(full_data_row )"
   ]
  },
  {
   "cell_type": "code",
   "execution_count": 110,
   "metadata": {},
   "outputs": [],
   "source": [
    "#"
   ]
  },
  {
   "cell_type": "code",
   "execution_count": 57,
   "metadata": {},
   "outputs": [],
   "source": [
    "dialect = csv.register_dialect('mydialect',quoting = csv.QUOTE_ALL,skipinitialspace=True)\n",
    "\n",
    "with open('full_data.csv',encoding='utf8',mode='w',newline='') as reader:\n",
    "    csv_writer = csv.writer(reader,dialect=dialect)\n",
    "\n",
    "    csv_writer.writerow(['artist','firstName','gender','itemInSession','lastName','length',\\\n",
    "                'level','location','sessionId','song','userId'])\n",
    "\n",
    "    for row in full_data_row:\n",
    "\n",
    "        if row[0] == '':\n",
    "            continue\n",
    "        csv_writer.writerow((row[0], row[2], row[3], row[4], row[5], row[6], row[7], row[8], row[12], row[13], row[16]))\n"
   ]
  },
  {
   "cell_type": "code",
   "execution_count": 58,
   "metadata": {
    "tags": []
   },
   "outputs": [
    {
     "output_type": "stream",
     "name": "stdout",
     "text": "6821\n"
    }
   ],
   "source": [
    "with open('full_data.csv',encoding='utf8',mode='r',newline='') as r :\n",
    "    print(sum(1 for l in r))"
   ]
  },
  {
   "cell_type": "code",
   "execution_count": 7,
   "metadata": {},
   "outputs": [],
   "source": [
    "from cassandra.cluster import Cluster"
   ]
  },
  {
   "cell_type": "code",
   "execution_count": 26,
   "metadata": {
    "tags": []
   },
   "outputs": [],
   "source": [
    "from cassandra.auth import PlainTextAuthProvider\n",
    "auth_provider = PlainTextAuthProvider(username='cassandra', password='cassandra')\n",
    "\n",
    "try:\n",
    "    conn = Cluster(auth_provider = auth_provider)\n",
    "    session = conn.connect()\n",
    "except Exception as e:\n",
    "    print(e)"
   ]
  },
  {
   "cell_type": "code",
   "execution_count": 46,
   "metadata": {},
   "outputs": [],
   "source": [
    "create_keyspace = \"create keyspace if not exists sparkly \\n \"\n",
    "create_keyspace += \" \\t with replication = {'class':'SimpleStrategy', 'replication_factor' : 1} \"\n",
    "\n",
    "\n",
    "\n",
    "try:\n",
    "    session.execute(create_keyspace)\n",
    "    session.set_keyspace('sparkly')\n",
    "except Exception as e:\n",
    "    print(e)\n"
   ]
  },
  {
   "cell_type": "code",
   "execution_count": 47,
   "metadata": {
    "tags": []
   },
   "outputs": [
    {
     "output_type": "stream",
     "name": "stdout",
     "text": "Table Created\n"
    }
   ],
   "source": [
    "# Create table to store the values\n",
    "\n",
    "\n",
    "create_session_item =\"\"\"CREATE TABLE IF NOT EXISTS session_item (artist text, song text, length float, sessionId int, itemInSession int, PRIMARY KEY (sessionId, itemInSession))\"\"\"\n",
    "\n",
    "\n",
    "try:\n",
    "    session.execute(create_session_item)\n",
    "    print('Table Created')\n",
    "except Exception as e:\n",
    "    print(f'Table Creation failed error : {e}')"
   ]
  },
  {
   "cell_type": "code",
   "execution_count": 60,
   "metadata": {},
   "outputs": [],
   "source": [
    "# Insert data\n",
    "file_n = 'full_data.csv'\n",
    "with open(file_n,encoding='utf8',newline='',mode='r') as f:\n",
    "    read_f = csv.reader(f)\n",
    "    next(read_f)\n",
    "\n",
    "    for line in read_f:\n",
    "        query = \" insert into session_item (artist, song, length, sessionId, itemInSession) \\n \"\n",
    "        query += \" values (%s, %s, %s, %s, %s)\"\n",
    "        session.execute(query,(line[0], line[10], line[5], int(line[8]), int(line[3])))\n",
    "\n"
   ]
  },
  {
   "cell_type": "code",
   "execution_count": 61,
   "metadata": {},
   "outputs": [],
   "source": [
    "# Query 2"
   ]
  },
  {
   "cell_type": "code",
   "execution_count": 62,
   "metadata": {
    "tags": []
   },
   "outputs": [
    {
     "output_type": "stream",
     "name": "stdout",
     "text": "Table Created!!\n"
    }
   ],
   "source": [
    "# Creating table for query2 \n",
    "create_query2 = \"\"\"CREATE TABLE IF NOT EXISTS user_session (sessionId int, userId int, artist text, song text, firstName text, lastName text, itemInSession int, PRIMARY KEY ((sessionId, userId), itemInSession)) WITH CLUSTERING ORDER BY (itemInSession ASC) \"\"\"\n",
    "\n",
    "try: \n",
    "    session.execute(create_query2)\n",
    "    print(\"Table Created!!\")\n",
    "except Exception as e:\n",
    "    print(f\"Table creation failed!! Error : {e}\")"
   ]
  },
  {
   "cell_type": "code",
   "execution_count": 64,
   "metadata": {},
   "outputs": [],
   "source": [
    "with open(file_n, encoding = 'utf8') as f:\n",
    "    csvreader = csv.reader(f)\n",
    "    next(csvreader) # skip header\n",
    "    for line in csvreader:\n",
    "        query = \"INSERT INTO user_session (sessionId, userId, artist, song, firstName, lastName, itemInSession) \"\n",
    "        query = query + \" VALUES (%s, %s, %s, %s, %s, %s, %s) \"\n",
    "        session.execute(query, (int(line[8]), int(line[10]), line[0], line[9], line[1], line[4], int(line[3])  ) )"
   ]
  },
  {
   "cell_type": "code",
   "execution_count": 67,
   "metadata": {},
   "outputs": [],
   "source": [
    "session.execute(\"DROP TABLE IF EXISTS sparkify.session_item\")\n",
    "session.execute(\"DROP TABLE IF EXISTS sparkify.user_session\")\n",
    "\n"
   ]
  },
  {
   "cell_type": "code",
   "execution_count": 69,
   "metadata": {},
   "outputs": [],
   "source": [
    "conn.shutdown()"
   ]
  },
  {
   "cell_type": "code",
   "execution_count": null,
   "metadata": {},
   "outputs": [],
   "source": []
  }
 ]
}